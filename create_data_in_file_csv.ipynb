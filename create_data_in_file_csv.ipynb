{
  "nbformat": 4,
  "nbformat_minor": 0,
  "metadata": {
    "colab": {
      "name": "create data in file csv.ipynb",
      "provenance": [],
      "collapsed_sections": [],
      "authorship_tag": "ABX9TyNNK1lYlXA5bPY0WS5aPK6Z",
      "include_colab_link": true
    },
    "kernelspec": {
      "name": "python3",
      "display_name": "Python 3"
    },
    "language_info": {
      "name": "python"
    }
  },
  "cells": [
    {
      "cell_type": "markdown",
      "metadata": {
        "id": "view-in-github",
        "colab_type": "text"
      },
      "source": [
        "<a href=\"https://colab.research.google.com/github/liora99/SQL_Project/blob/main/create_data_in_file_csv.ipynb\" target=\"_parent\"><img src=\"https://colab.research.google.com/assets/colab-badge.svg\" alt=\"Open In Colab\"/></a>"
      ]
    },
    {
      "cell_type": "code",
      "execution_count": null,
      "metadata": {
        "colab": {
          "base_uri": "https://localhost:8080/"
        },
        "id": "fV_YAsciEdkz",
        "outputId": "0ce08c11-907b-4a3b-da55-76b2803375ed"
      },
      "outputs": [
        {
          "output_type": "stream",
          "name": "stdout",
          "text": [
            "Collecting names\n",
            "  Downloading names-0.3.0.tar.gz (789 kB)\n",
            "\u001b[K     |████████████████████████████████| 789 kB 5.1 MB/s \n",
            "\u001b[?25hBuilding wheels for collected packages: names\n",
            "  Building wheel for names (setup.py) ... \u001b[?25l\u001b[?25hdone\n",
            "  Created wheel for names: filename=names-0.3.0-py3-none-any.whl size=803699 sha256=09c706d0ea7907d414be3624b9e7d1ee26e7dc53287799316227bf20fcf6d55f\n",
            "  Stored in directory: /root/.cache/pip/wheels/05/ea/68/92f6b0669e478af9b7c3c524520d03050089e034edcc775c2b\n",
            "Successfully built names\n",
            "Installing collected packages: names\n",
            "Successfully installed names-0.3.0\n"
          ]
        }
      ],
      "source": [
        "pip install names"
      ]
    },
    {
      "cell_type": "code",
      "source": [
        ""
      ],
      "metadata": {
        "id": "cnJ8rnJVifYQ"
      },
      "execution_count": null,
      "outputs": []
    },
    {
      "cell_type": "code",
      "source": [
        "import names"
      ],
      "metadata": {
        "id": "Ec0-E-18Eo1Z"
      },
      "execution_count": null,
      "outputs": []
    },
    {
      "cell_type": "code",
      "source": [
        "import random"
      ],
      "metadata": {
        "id": "SsnbsMbuEsJS"
      },
      "execution_count": null,
      "outputs": []
    },
    {
      "cell_type": "code",
      "source": [
        ""
      ],
      "metadata": {
        "id": "tAw1O35gK_lz"
      },
      "execution_count": null,
      "outputs": []
    },
    {
      "cell_type": "code",
      "source": [
        "from functools import reduce"
      ],
      "metadata": {
        "id": "de3eKnbYFes9"
      },
      "execution_count": null,
      "outputs": []
    },
    {
      "cell_type": "code",
      "source": [
        "import pandas as pd"
      ],
      "metadata": {
        "id": "f2MogkDkFtCM"
      },
      "execution_count": null,
      "outputs": []
    },
    {
      "cell_type": "code",
      "source": [
        "def create_random_csv_data_for_payment(n):\n",
        "  payment_id = range(1,n + 1)\n",
        "  list_type_of_payment = ['Cards', 'Check', 'Cash' , 'GiftCards']                             \n",
        "  type_of_payment = random.choices(list_type_of_payment,weights=(50, 30, 40, 10), k=n)\n",
        "  payment_owner_name = map(names.get_full_name, range(1,n + 1)) \n",
        "  amount_of_payment = np.random.randint(100,6800,size =n)\n",
        "  client_id=map(str, random.sample(range(100000000,399999999), n))\n",
        "  email_adress = random.choices(emailAdressRandomList, k=n)\n",
        "  data = {'payment_id' : payment_id,\n",
        "          'type_of_payment' : type_of_payment,\n",
        "          'payment_owner_name' : payment_owner_name, \n",
        "          'client_id' : client_id,\n",
        "          'amount_of_payment' : amount_of_payment,\n",
        "          'email_adress' : email_adress,\n",
        "          }\n",
        "  df = pd.DataFrame(data)\n",
        "  return df"
      ],
      "metadata": {
        "id": "5eZNprKYFxQe"
      },
      "execution_count": null,
      "outputs": []
    },
    {
      "cell_type": "code",
      "source": [
        "n=20000"
      ],
      "metadata": {
        "id": "uijS3y4ArWFI"
      },
      "execution_count": null,
      "outputs": []
    },
    {
      "cell_type": "code",
      "source": [
        "\n",
        "\n",
        "AmountRandomList = [];\n",
        "for index in range(n):\n",
        "    AmountRandomList.append(random.randint(100,1250))\n",
        "    \n",
        "#print(AmountRandomList)\n",
        "#AmountRandomList.append(random.randint(1250,2250))\n",
        "#AmountRandomList.append(random.randint(1250,2250))"
      ],
      "metadata": {
        "id": "nUUWtywTMS1z"
      },
      "execution_count": null,
      "outputs": []
    },
    {
      "cell_type": "code",
      "source": [
        "df = create_random_csv_data_for_payment(20000)"
      ],
      "metadata": {
        "id": "82SZe4DTLSsz"
      },
      "execution_count": null,
      "outputs": []
    },
    {
      "cell_type": "code",
      "source": [
        ""
      ],
      "metadata": {
        "id": "_VjLKJZvneRe"
      },
      "execution_count": null,
      "outputs": []
    },
    {
      "cell_type": "code",
      "source": [
        "df"
      ],
      "metadata": {
        "colab": {
          "base_uri": "https://localhost:8080/",
          "height": 424
        },
        "id": "nCqE8BPCzdg3",
        "outputId": "fb4e58f2-36da-4d83-ee5b-d286f2146107"
      },
      "execution_count": null,
      "outputs": [
        {
          "output_type": "execute_result",
          "data": {
            "text/plain": [
              "       payment_id type_of_payment payment_owner_name  client_id  \\\n",
              "0               1           Cards        Evan Mcmunn  180926357   \n",
              "1               2            Cash        Lauren Post  300622943   \n",
              "2               3            Cash     Sadie Randolph  140115651   \n",
              "3               4            Cash     Pamela Gardner  258897694   \n",
              "4               5           Cards          Matt Lane  136919483   \n",
              "...           ...             ...                ...        ...   \n",
              "19995       19996           Cards    Samantha Kotula  124951382   \n",
              "19996       19997           Check        Donna Baker  156130238   \n",
              "19997       19998            Cash      Luis Langston  366677410   \n",
              "19998       19999            Cash      Rebecca Evans  153021143   \n",
              "19999       20000       GiftCards     Danny Anderson  200012117   \n",
              "\n",
              "       amount_of_payment       email_adress  \n",
              "0                   5438  SNdcJHV@gmail.com  \n",
              "1                   1142  pcMGkzu@gmail.com  \n",
              "2                   6575  Fdyhrwc@gmail.com  \n",
              "3                    782  TiRBdrJ@gmail.com  \n",
              "4                   4477  LYNwNGT@gmail.com  \n",
              "...                  ...                ...  \n",
              "19995               4679  fXQufHW@gmail.com  \n",
              "19996               4891  tqpfzZt@gmail.com  \n",
              "19997               5559  vyCitbx@gmail.com  \n",
              "19998               5585  OqwQEvi@gmail.com  \n",
              "19999               6734  prADCsb@gmail.com  \n",
              "\n",
              "[20000 rows x 6 columns]"
            ],
            "text/html": [
              "\n",
              "  <div id=\"df-2cea72d8-e041-4430-b8e4-dd7c613584af\">\n",
              "    <div class=\"colab-df-container\">\n",
              "      <div>\n",
              "<style scoped>\n",
              "    .dataframe tbody tr th:only-of-type {\n",
              "        vertical-align: middle;\n",
              "    }\n",
              "\n",
              "    .dataframe tbody tr th {\n",
              "        vertical-align: top;\n",
              "    }\n",
              "\n",
              "    .dataframe thead th {\n",
              "        text-align: right;\n",
              "    }\n",
              "</style>\n",
              "<table border=\"1\" class=\"dataframe\">\n",
              "  <thead>\n",
              "    <tr style=\"text-align: right;\">\n",
              "      <th></th>\n",
              "      <th>payment_id</th>\n",
              "      <th>type_of_payment</th>\n",
              "      <th>payment_owner_name</th>\n",
              "      <th>client_id</th>\n",
              "      <th>amount_of_payment</th>\n",
              "      <th>email_adress</th>\n",
              "    </tr>\n",
              "  </thead>\n",
              "  <tbody>\n",
              "    <tr>\n",
              "      <th>0</th>\n",
              "      <td>1</td>\n",
              "      <td>Cards</td>\n",
              "      <td>Evan Mcmunn</td>\n",
              "      <td>180926357</td>\n",
              "      <td>5438</td>\n",
              "      <td>SNdcJHV@gmail.com</td>\n",
              "    </tr>\n",
              "    <tr>\n",
              "      <th>1</th>\n",
              "      <td>2</td>\n",
              "      <td>Cash</td>\n",
              "      <td>Lauren Post</td>\n",
              "      <td>300622943</td>\n",
              "      <td>1142</td>\n",
              "      <td>pcMGkzu@gmail.com</td>\n",
              "    </tr>\n",
              "    <tr>\n",
              "      <th>2</th>\n",
              "      <td>3</td>\n",
              "      <td>Cash</td>\n",
              "      <td>Sadie Randolph</td>\n",
              "      <td>140115651</td>\n",
              "      <td>6575</td>\n",
              "      <td>Fdyhrwc@gmail.com</td>\n",
              "    </tr>\n",
              "    <tr>\n",
              "      <th>3</th>\n",
              "      <td>4</td>\n",
              "      <td>Cash</td>\n",
              "      <td>Pamela Gardner</td>\n",
              "      <td>258897694</td>\n",
              "      <td>782</td>\n",
              "      <td>TiRBdrJ@gmail.com</td>\n",
              "    </tr>\n",
              "    <tr>\n",
              "      <th>4</th>\n",
              "      <td>5</td>\n",
              "      <td>Cards</td>\n",
              "      <td>Matt Lane</td>\n",
              "      <td>136919483</td>\n",
              "      <td>4477</td>\n",
              "      <td>LYNwNGT@gmail.com</td>\n",
              "    </tr>\n",
              "    <tr>\n",
              "      <th>...</th>\n",
              "      <td>...</td>\n",
              "      <td>...</td>\n",
              "      <td>...</td>\n",
              "      <td>...</td>\n",
              "      <td>...</td>\n",
              "      <td>...</td>\n",
              "    </tr>\n",
              "    <tr>\n",
              "      <th>19995</th>\n",
              "      <td>19996</td>\n",
              "      <td>Cards</td>\n",
              "      <td>Samantha Kotula</td>\n",
              "      <td>124951382</td>\n",
              "      <td>4679</td>\n",
              "      <td>fXQufHW@gmail.com</td>\n",
              "    </tr>\n",
              "    <tr>\n",
              "      <th>19996</th>\n",
              "      <td>19997</td>\n",
              "      <td>Check</td>\n",
              "      <td>Donna Baker</td>\n",
              "      <td>156130238</td>\n",
              "      <td>4891</td>\n",
              "      <td>tqpfzZt@gmail.com</td>\n",
              "    </tr>\n",
              "    <tr>\n",
              "      <th>19997</th>\n",
              "      <td>19998</td>\n",
              "      <td>Cash</td>\n",
              "      <td>Luis Langston</td>\n",
              "      <td>366677410</td>\n",
              "      <td>5559</td>\n",
              "      <td>vyCitbx@gmail.com</td>\n",
              "    </tr>\n",
              "    <tr>\n",
              "      <th>19998</th>\n",
              "      <td>19999</td>\n",
              "      <td>Cash</td>\n",
              "      <td>Rebecca Evans</td>\n",
              "      <td>153021143</td>\n",
              "      <td>5585</td>\n",
              "      <td>OqwQEvi@gmail.com</td>\n",
              "    </tr>\n",
              "    <tr>\n",
              "      <th>19999</th>\n",
              "      <td>20000</td>\n",
              "      <td>GiftCards</td>\n",
              "      <td>Danny Anderson</td>\n",
              "      <td>200012117</td>\n",
              "      <td>6734</td>\n",
              "      <td>prADCsb@gmail.com</td>\n",
              "    </tr>\n",
              "  </tbody>\n",
              "</table>\n",
              "<p>20000 rows × 6 columns</p>\n",
              "</div>\n",
              "      <button class=\"colab-df-convert\" onclick=\"convertToInteractive('df-2cea72d8-e041-4430-b8e4-dd7c613584af')\"\n",
              "              title=\"Convert this dataframe to an interactive table.\"\n",
              "              style=\"display:none;\">\n",
              "        \n",
              "  <svg xmlns=\"http://www.w3.org/2000/svg\" height=\"24px\"viewBox=\"0 0 24 24\"\n",
              "       width=\"24px\">\n",
              "    <path d=\"M0 0h24v24H0V0z\" fill=\"none\"/>\n",
              "    <path d=\"M18.56 5.44l.94 2.06.94-2.06 2.06-.94-2.06-.94-.94-2.06-.94 2.06-2.06.94zm-11 1L8.5 8.5l.94-2.06 2.06-.94-2.06-.94L8.5 2.5l-.94 2.06-2.06.94zm10 10l.94 2.06.94-2.06 2.06-.94-2.06-.94-.94-2.06-.94 2.06-2.06.94z\"/><path d=\"M17.41 7.96l-1.37-1.37c-.4-.4-.92-.59-1.43-.59-.52 0-1.04.2-1.43.59L10.3 9.45l-7.72 7.72c-.78.78-.78 2.05 0 2.83L4 21.41c.39.39.9.59 1.41.59.51 0 1.02-.2 1.41-.59l7.78-7.78 2.81-2.81c.8-.78.8-2.07 0-2.86zM5.41 20L4 18.59l7.72-7.72 1.47 1.35L5.41 20z\"/>\n",
              "  </svg>\n",
              "      </button>\n",
              "      \n",
              "  <style>\n",
              "    .colab-df-container {\n",
              "      display:flex;\n",
              "      flex-wrap:wrap;\n",
              "      gap: 12px;\n",
              "    }\n",
              "\n",
              "    .colab-df-convert {\n",
              "      background-color: #E8F0FE;\n",
              "      border: none;\n",
              "      border-radius: 50%;\n",
              "      cursor: pointer;\n",
              "      display: none;\n",
              "      fill: #1967D2;\n",
              "      height: 32px;\n",
              "      padding: 0 0 0 0;\n",
              "      width: 32px;\n",
              "    }\n",
              "\n",
              "    .colab-df-convert:hover {\n",
              "      background-color: #E2EBFA;\n",
              "      box-shadow: 0px 1px 2px rgba(60, 64, 67, 0.3), 0px 1px 3px 1px rgba(60, 64, 67, 0.15);\n",
              "      fill: #174EA6;\n",
              "    }\n",
              "\n",
              "    [theme=dark] .colab-df-convert {\n",
              "      background-color: #3B4455;\n",
              "      fill: #D2E3FC;\n",
              "    }\n",
              "\n",
              "    [theme=dark] .colab-df-convert:hover {\n",
              "      background-color: #434B5C;\n",
              "      box-shadow: 0px 1px 3px 1px rgba(0, 0, 0, 0.15);\n",
              "      filter: drop-shadow(0px 1px 2px rgba(0, 0, 0, 0.3));\n",
              "      fill: #FFFFFF;\n",
              "    }\n",
              "  </style>\n",
              "\n",
              "      <script>\n",
              "        const buttonEl =\n",
              "          document.querySelector('#df-2cea72d8-e041-4430-b8e4-dd7c613584af button.colab-df-convert');\n",
              "        buttonEl.style.display =\n",
              "          google.colab.kernel.accessAllowed ? 'block' : 'none';\n",
              "\n",
              "        async function convertToInteractive(key) {\n",
              "          const element = document.querySelector('#df-2cea72d8-e041-4430-b8e4-dd7c613584af');\n",
              "          const dataTable =\n",
              "            await google.colab.kernel.invokeFunction('convertToInteractive',\n",
              "                                                     [key], {});\n",
              "          if (!dataTable) return;\n",
              "\n",
              "          const docLinkHtml = 'Like what you see? Visit the ' +\n",
              "            '<a target=\"_blank\" href=https://colab.research.google.com/notebooks/data_table.ipynb>data table notebook</a>'\n",
              "            + ' to learn more about interactive tables.';\n",
              "          element.innerHTML = '';\n",
              "          dataTable['output_type'] = 'display_data';\n",
              "          await google.colab.output.renderOutput(dataTable, element);\n",
              "          const docLink = document.createElement('div');\n",
              "          docLink.innerHTML = docLinkHtml;\n",
              "          element.appendChild(docLink);\n",
              "        }\n",
              "      </script>\n",
              "    </div>\n",
              "  </div>\n",
              "  "
            ]
          },
          "metadata": {},
          "execution_count": 21
        }
      ]
    },
    {
      "cell_type": "code",
      "source": [
        "[random.randint(1,10) for x in range(200)]"
      ],
      "metadata": {
        "id": "F3JfkSbbhsZA"
      },
      "execution_count": null,
      "outputs": []
    },
    {
      "cell_type": "code",
      "source": [
        "df.to_csv(\"Payment.csv\" , index=False)"
      ],
      "metadata": {
        "id": "D03Ze2t8humB"
      },
      "execution_count": null,
      "outputs": []
    },
    {
      "cell_type": "code",
      "source": [
        "dataf.to_csv(\"ticket.csv\" , index=False)"
      ],
      "metadata": {
        "id": "EDBNRJjuAA7y"
      },
      "execution_count": null,
      "outputs": []
    },
    {
      "cell_type": "code",
      "source": [
        "def create_random_csv_data_for_Client(n):\n",
        "  client_id = range(1,n + 1)\n",
        "  data = {'client_id' : client_id,}\n",
        "  df = pd.DataFrame(data)\n",
        "  return df\n",
        "\n",
        "\n"
      ],
      "metadata": {
        "id": "0mJDVsBTd6OP"
      },
      "execution_count": null,
      "outputs": []
    },
    {
      "cell_type": "code",
      "source": [
        "df = create_random_csv_data_for_Client(1000)"
      ],
      "metadata": {
        "id": "bBLobXSghzD4"
      },
      "execution_count": null,
      "outputs": []
    },
    {
      "cell_type": "code",
      "source": [
        "df"
      ],
      "metadata": {
        "id": "CrBVVzFWd73P",
        "colab": {
          "base_uri": "https://localhost:8080/",
          "height": 424
        },
        "outputId": "5b879d47-e31d-4225-e559-8ad023062378"
      },
      "execution_count": null,
      "outputs": [
        {
          "output_type": "execute_result",
          "data": {
            "text/plain": [
              "     client_id\n",
              "0            1\n",
              "1            2\n",
              "2            3\n",
              "3            4\n",
              "4            5\n",
              "..         ...\n",
              "995        996\n",
              "996        997\n",
              "997        998\n",
              "998        999\n",
              "999       1000\n",
              "\n",
              "[1000 rows x 1 columns]"
            ],
            "text/html": [
              "\n",
              "  <div id=\"df-351a0d71-4d9c-421c-86e1-9cc40a095a03\">\n",
              "    <div class=\"colab-df-container\">\n",
              "      <div>\n",
              "<style scoped>\n",
              "    .dataframe tbody tr th:only-of-type {\n",
              "        vertical-align: middle;\n",
              "    }\n",
              "\n",
              "    .dataframe tbody tr th {\n",
              "        vertical-align: top;\n",
              "    }\n",
              "\n",
              "    .dataframe thead th {\n",
              "        text-align: right;\n",
              "    }\n",
              "</style>\n",
              "<table border=\"1\" class=\"dataframe\">\n",
              "  <thead>\n",
              "    <tr style=\"text-align: right;\">\n",
              "      <th></th>\n",
              "      <th>client_id</th>\n",
              "    </tr>\n",
              "  </thead>\n",
              "  <tbody>\n",
              "    <tr>\n",
              "      <th>0</th>\n",
              "      <td>1</td>\n",
              "    </tr>\n",
              "    <tr>\n",
              "      <th>1</th>\n",
              "      <td>2</td>\n",
              "    </tr>\n",
              "    <tr>\n",
              "      <th>2</th>\n",
              "      <td>3</td>\n",
              "    </tr>\n",
              "    <tr>\n",
              "      <th>3</th>\n",
              "      <td>4</td>\n",
              "    </tr>\n",
              "    <tr>\n",
              "      <th>4</th>\n",
              "      <td>5</td>\n",
              "    </tr>\n",
              "    <tr>\n",
              "      <th>...</th>\n",
              "      <td>...</td>\n",
              "    </tr>\n",
              "    <tr>\n",
              "      <th>995</th>\n",
              "      <td>996</td>\n",
              "    </tr>\n",
              "    <tr>\n",
              "      <th>996</th>\n",
              "      <td>997</td>\n",
              "    </tr>\n",
              "    <tr>\n",
              "      <th>997</th>\n",
              "      <td>998</td>\n",
              "    </tr>\n",
              "    <tr>\n",
              "      <th>998</th>\n",
              "      <td>999</td>\n",
              "    </tr>\n",
              "    <tr>\n",
              "      <th>999</th>\n",
              "      <td>1000</td>\n",
              "    </tr>\n",
              "  </tbody>\n",
              "</table>\n",
              "<p>1000 rows × 1 columns</p>\n",
              "</div>\n",
              "      <button class=\"colab-df-convert\" onclick=\"convertToInteractive('df-351a0d71-4d9c-421c-86e1-9cc40a095a03')\"\n",
              "              title=\"Convert this dataframe to an interactive table.\"\n",
              "              style=\"display:none;\">\n",
              "        \n",
              "  <svg xmlns=\"http://www.w3.org/2000/svg\" height=\"24px\"viewBox=\"0 0 24 24\"\n",
              "       width=\"24px\">\n",
              "    <path d=\"M0 0h24v24H0V0z\" fill=\"none\"/>\n",
              "    <path d=\"M18.56 5.44l.94 2.06.94-2.06 2.06-.94-2.06-.94-.94-2.06-.94 2.06-2.06.94zm-11 1L8.5 8.5l.94-2.06 2.06-.94-2.06-.94L8.5 2.5l-.94 2.06-2.06.94zm10 10l.94 2.06.94-2.06 2.06-.94-2.06-.94-.94-2.06-.94 2.06-2.06.94z\"/><path d=\"M17.41 7.96l-1.37-1.37c-.4-.4-.92-.59-1.43-.59-.52 0-1.04.2-1.43.59L10.3 9.45l-7.72 7.72c-.78.78-.78 2.05 0 2.83L4 21.41c.39.39.9.59 1.41.59.51 0 1.02-.2 1.41-.59l7.78-7.78 2.81-2.81c.8-.78.8-2.07 0-2.86zM5.41 20L4 18.59l7.72-7.72 1.47 1.35L5.41 20z\"/>\n",
              "  </svg>\n",
              "      </button>\n",
              "      \n",
              "  <style>\n",
              "    .colab-df-container {\n",
              "      display:flex;\n",
              "      flex-wrap:wrap;\n",
              "      gap: 12px;\n",
              "    }\n",
              "\n",
              "    .colab-df-convert {\n",
              "      background-color: #E8F0FE;\n",
              "      border: none;\n",
              "      border-radius: 50%;\n",
              "      cursor: pointer;\n",
              "      display: none;\n",
              "      fill: #1967D2;\n",
              "      height: 32px;\n",
              "      padding: 0 0 0 0;\n",
              "      width: 32px;\n",
              "    }\n",
              "\n",
              "    .colab-df-convert:hover {\n",
              "      background-color: #E2EBFA;\n",
              "      box-shadow: 0px 1px 2px rgba(60, 64, 67, 0.3), 0px 1px 3px 1px rgba(60, 64, 67, 0.15);\n",
              "      fill: #174EA6;\n",
              "    }\n",
              "\n",
              "    [theme=dark] .colab-df-convert {\n",
              "      background-color: #3B4455;\n",
              "      fill: #D2E3FC;\n",
              "    }\n",
              "\n",
              "    [theme=dark] .colab-df-convert:hover {\n",
              "      background-color: #434B5C;\n",
              "      box-shadow: 0px 1px 3px 1px rgba(0, 0, 0, 0.15);\n",
              "      filter: drop-shadow(0px 1px 2px rgba(0, 0, 0, 0.3));\n",
              "      fill: #FFFFFF;\n",
              "    }\n",
              "  </style>\n",
              "\n",
              "      <script>\n",
              "        const buttonEl =\n",
              "          document.querySelector('#df-351a0d71-4d9c-421c-86e1-9cc40a095a03 button.colab-df-convert');\n",
              "        buttonEl.style.display =\n",
              "          google.colab.kernel.accessAllowed ? 'block' : 'none';\n",
              "\n",
              "        async function convertToInteractive(key) {\n",
              "          const element = document.querySelector('#df-351a0d71-4d9c-421c-86e1-9cc40a095a03');\n",
              "          const dataTable =\n",
              "            await google.colab.kernel.invokeFunction('convertToInteractive',\n",
              "                                                     [key], {});\n",
              "          if (!dataTable) return;\n",
              "\n",
              "          const docLinkHtml = 'Like what you see? Visit the ' +\n",
              "            '<a target=\"_blank\" href=https://colab.research.google.com/notebooks/data_table.ipynb>data table notebook</a>'\n",
              "            + ' to learn more about interactive tables.';\n",
              "          element.innerHTML = '';\n",
              "          dataTable['output_type'] = 'display_data';\n",
              "          await google.colab.output.renderOutput(dataTable, element);\n",
              "          const docLink = document.createElement('div');\n",
              "          docLink.innerHTML = docLinkHtml;\n",
              "          element.appendChild(docLink);\n",
              "        }\n",
              "      </script>\n",
              "    </div>\n",
              "  </div>\n",
              "  "
            ]
          },
          "metadata": {},
          "execution_count": 10
        }
      ]
    },
    {
      "cell_type": "code",
      "source": [
        "df.to_csv(\"payment.csv\" , index=False)"
      ],
      "metadata": {
        "id": "A9xa8N5U6Vt-"
      },
      "execution_count": null,
      "outputs": []
    },
    {
      "cell_type": "code",
      "source": [
        "dataf.to_csv(\"ticket.csv\" , index=False)"
      ],
      "metadata": {
        "id": "kvb8BTkj5m7F"
      },
      "execution_count": null,
      "outputs": []
    },
    {
      "cell_type": "markdown",
      "source": [
        "# New Section"
      ],
      "metadata": {
        "id": "cUijEibMdPrU"
      }
    },
    {
      "cell_type": "code",
      "source": [
        "def create_random_csv_data_for_Ticket(n):\n",
        "  list_price_of_ticket = ['100', '125', '150' , '200','250', '2300', '4500','6800']\n",
        "  ticket_id = range(1,n + 1)\n",
        "  bar_code = np.random.randint(10000000, 99999999, size=n)\n",
        "  price = random.choices(list_price_of_ticket,weights=(10,30,20,50,10,15,5,5), k=n)\n",
        "  expiration_date = random.choices(datesRandomList, k=n)\n",
        "  #date_of_expiry = pd.date_range('1/1/2022' , '12/31/2024') \n",
        "  data = {'ticket_id' : ticket_id,\n",
        "          'bar_code' : bar_code,\n",
        "          'price' : price,\n",
        "          'expiration_date' : expiration_date,\n",
        "          }\n",
        "  dataf = pd.DataFrame(data)\n",
        "  return dataf"
      ],
      "metadata": {
        "id": "lfqnanzLK-As"
      },
      "execution_count": null,
      "outputs": []
    },
    {
      "cell_type": "code",
      "source": [
        "dataf = create_random_csv_data_for_Ticket(20000)"
      ],
      "metadata": {
        "id": "okJ1v5wHZwoF"
      },
      "execution_count": null,
      "outputs": []
    },
    {
      "cell_type": "code",
      "source": [
        "def input_data(x):\n",
        " student_data={}\n",
        " for i in range(0,x):\n",
        "   student_data[i]={}\n",
        "   student_data[i]=fake.date_between(start_date='today' , end_date='+2y')\n",
        "\n",
        "    #tmp=fake.date_between(start_date='today' , end_date='+2y')"
      ],
      "metadata": {
        "id": "7zGr-vrdmnF5"
      },
      "execution_count": null,
      "outputs": []
    },
    {
      "cell_type": "code",
      "source": [
        "x = range(1,n+1)\n",
        "tt=list(x)\n",
        "for i in range(1,n):\n",
        "  tt[i]=fake.date_between(start_date='today' , end_date='+2y')\n",
        " "
      ],
      "metadata": {
        "id": "vpoDqgUdvYnA",
        "colab": {
          "base_uri": "https://localhost:8080/",
          "height": 217
        },
        "outputId": "d1d02d1a-3061-44e6-8721-a4d9eab8c163"
      },
      "execution_count": null,
      "outputs": [
        {
          "output_type": "error",
          "ename": "NameError",
          "evalue": "ignored",
          "traceback": [
            "\u001b[0;31m---------------------------------------------------------------------------\u001b[0m",
            "\u001b[0;31mNameError\u001b[0m                                 Traceback (most recent call last)",
            "\u001b[0;32m<ipython-input-37-5899c3a773ce>\u001b[0m in \u001b[0;36m<module>\u001b[0;34m()\u001b[0m\n\u001b[1;32m      2\u001b[0m \u001b[0mtt\u001b[0m\u001b[0;34m=\u001b[0m\u001b[0mlist\u001b[0m\u001b[0;34m(\u001b[0m\u001b[0mx\u001b[0m\u001b[0;34m)\u001b[0m\u001b[0;34m\u001b[0m\u001b[0;34m\u001b[0m\u001b[0m\n\u001b[1;32m      3\u001b[0m \u001b[0;32mfor\u001b[0m \u001b[0mi\u001b[0m \u001b[0;32min\u001b[0m \u001b[0mrange\u001b[0m\u001b[0;34m(\u001b[0m\u001b[0;36m1\u001b[0m\u001b[0;34m,\u001b[0m\u001b[0mn\u001b[0m\u001b[0;34m)\u001b[0m\u001b[0;34m:\u001b[0m\u001b[0;34m\u001b[0m\u001b[0;34m\u001b[0m\u001b[0m\n\u001b[0;32m----> 4\u001b[0;31m   \u001b[0mtt\u001b[0m\u001b[0;34m[\u001b[0m\u001b[0mi\u001b[0m\u001b[0;34m]\u001b[0m\u001b[0;34m=\u001b[0m\u001b[0mfake\u001b[0m\u001b[0;34m.\u001b[0m\u001b[0mdate_between\u001b[0m\u001b[0;34m(\u001b[0m\u001b[0mstart_date\u001b[0m\u001b[0;34m=\u001b[0m\u001b[0;34m'today'\u001b[0m \u001b[0;34m,\u001b[0m \u001b[0mend_date\u001b[0m\u001b[0;34m=\u001b[0m\u001b[0;34m'+2y'\u001b[0m\u001b[0;34m)\u001b[0m\u001b[0;34m\u001b[0m\u001b[0;34m\u001b[0m\u001b[0m\n\u001b[0m\u001b[1;32m      5\u001b[0m \u001b[0;34m\u001b[0m\u001b[0m\n",
            "\u001b[0;31mNameError\u001b[0m: name 'fake' is not defined"
          ]
        }
      ]
    },
    {
      "cell_type": "code",
      "source": [
        "sdate = date(2022, 6, 1)"
      ],
      "metadata": {
        "id": "OuGKG4FM7Yer"
      },
      "execution_count": null,
      "outputs": []
    },
    {
      "cell_type": "code",
      "source": [
        "edate = date(2023, 6, 1)"
      ],
      "metadata": {
        "id": "qd_OdDZ9AaJ2"
      },
      "execution_count": null,
      "outputs": []
    },
    {
      "cell_type": "code",
      "source": [
        "dates_between = edate - sdate"
      ],
      "metadata": {
        "id": "zJLn4DIy8DUD"
      },
      "execution_count": null,
      "outputs": []
    },
    {
      "cell_type": "code",
      "source": [
        ""
      ],
      "metadata": {
        "id": "EKC4jIjLAhaP"
      },
      "execution_count": null,
      "outputs": []
    },
    {
      "cell_type": "code",
      "source": [
        "total_days = dates_between.days"
      ],
      "metadata": {
        "id": "ju4oOVV98LNy"
      },
      "execution_count": null,
      "outputs": []
    },
    {
      "cell_type": "code",
      "source": [
        "from datetime import date, timedelta , datetime"
      ],
      "metadata": {
        "id": "nspk0T1P7P98"
      },
      "execution_count": null,
      "outputs": []
    },
    {
      "cell_type": "code",
      "source": [
        "n=20000"
      ],
      "metadata": {
        "id": "p6TtE-xS4_jU"
      },
      "execution_count": null,
      "outputs": []
    },
    {
      "cell_type": "code",
      "source": [
        " price = np.random.randint(100, 250, size=n)"
      ],
      "metadata": {
        "id": "EYiNsTBd49kS"
      },
      "execution_count": null,
      "outputs": []
    },
    {
      "cell_type": "code",
      "source": [
        "  bar_code = np.random.randint(10000, 99999, size=n)"
      ],
      "metadata": {
        "id": "9fq0YpKI6DDi"
      },
      "execution_count": null,
      "outputs": []
    },
    {
      "cell_type": "code",
      "source": [
        " cards_id = range(1,n + 1)"
      ],
      "metadata": {
        "id": "guwrMVPN50tM"
      },
      "execution_count": null,
      "outputs": []
    },
    {
      "cell_type": "code",
      "source": [
        "len(bar_code)"
      ],
      "metadata": {
        "colab": {
          "base_uri": "https://localhost:8080/"
        },
        "id": "EabRah8Y5CPy",
        "outputId": "2000da1a-c88c-40ac-8b93-4dbb3a71bc06"
      },
      "execution_count": null,
      "outputs": [
        {
          "output_type": "execute_result",
          "data": {
            "text/plain": [
              "1000"
            ]
          },
          "metadata": {},
          "execution_count": 43
        }
      ]
    },
    {
      "cell_type": "code",
      "source": [
        "date_of_expiry = date1 + timedelta(days=randay)"
      ],
      "metadata": {
        "id": "_M2CE9GM5LpT"
      },
      "execution_count": null,
      "outputs": []
    },
    {
      "cell_type": "code",
      "source": [
        "randay = random.randrange(total_days)"
      ],
      "metadata": {
        "id": "9lvINpO99zMu"
      },
      "execution_count": null,
      "outputs": []
    },
    {
      "cell_type": "code",
      "source": [
        "len(date_of_expiry)"
      ],
      "metadata": {
        "colab": {
          "base_uri": "https://localhost:8080/",
          "height": 165
        },
        "id": "n6tFMW675QHD",
        "outputId": "49145327-cf1d-4c8b-b00f-8eadd65fc6e6"
      },
      "execution_count": null,
      "outputs": [
        {
          "output_type": "error",
          "ename": "TypeError",
          "evalue": "ignored",
          "traceback": [
            "\u001b[0;31m---------------------------------------------------------------------------\u001b[0m",
            "\u001b[0;31mTypeError\u001b[0m                                 Traceback (most recent call last)",
            "\u001b[0;32m<ipython-input-49-4dda6b9fa422>\u001b[0m in \u001b[0;36m<module>\u001b[0;34m()\u001b[0m\n\u001b[0;32m----> 1\u001b[0;31m \u001b[0mlen\u001b[0m\u001b[0;34m(\u001b[0m\u001b[0mdate_of_expiry\u001b[0m\u001b[0;34m)\u001b[0m\u001b[0;34m\u001b[0m\u001b[0;34m\u001b[0m\u001b[0m\n\u001b[0m",
            "\u001b[0;31mTypeError\u001b[0m: object of type 'datetime.date' has no len()"
          ]
        }
      ]
    },
    {
      "cell_type": "code",
      "source": [
        "date_of_expiry"
      ],
      "metadata": {
        "colab": {
          "base_uri": "https://localhost:8080/"
        },
        "id": "y1UzFdEa5YGb",
        "outputId": "4d39e9b9-6cf8-4444-8b6e-5df8b6fc3c0b"
      },
      "execution_count": null,
      "outputs": [
        {
          "output_type": "execute_result",
          "data": {
            "text/plain": [
              "DatetimeIndex(['2022-01-01', '2022-01-02', '2022-01-03', '2022-01-04',\n",
              "               '2022-01-05', '2022-01-06', '2022-01-07', '2022-01-08',\n",
              "               '2022-01-09', '2022-01-10',\n",
              "               ...\n",
              "               '2024-12-22', '2024-12-23', '2024-12-24', '2024-12-25',\n",
              "               '2024-12-26', '2024-12-27', '2024-12-28', '2024-12-29',\n",
              "               '2024-12-30', '2024-12-31'],\n",
              "              dtype='datetime64[ns]', length=1096, freq='D')"
            ]
          },
          "metadata": {},
          "execution_count": 26
        }
      ]
    },
    {
      "cell_type": "code",
      "source": [
        "from random import sample"
      ],
      "metadata": {
        "id": "6OIeR409OycE"
      },
      "execution_count": null,
      "outputs": []
    },
    {
      "cell_type": "code",
      "source": [
        "pip install faker"
      ],
      "metadata": {
        "colab": {
          "base_uri": "https://localhost:8080/"
        },
        "id": "WjikHXRNi0-v",
        "outputId": "6f741784-fe66-455d-f72b-b92414962c09"
      },
      "execution_count": null,
      "outputs": [
        {
          "output_type": "stream",
          "name": "stdout",
          "text": [
            "Collecting faker\n",
            "  Downloading Faker-13.7.0-py3-none-any.whl (1.5 MB)\n",
            "\u001b[?25l\r\u001b[K     |▏                               | 10 kB 25.9 MB/s eta 0:00:01\r\u001b[K     |▍                               | 20 kB 32.4 MB/s eta 0:00:01\r\u001b[K     |▋                               | 30 kB 37.2 MB/s eta 0:00:01\r\u001b[K     |▉                               | 40 kB 13.7 MB/s eta 0:00:01\r\u001b[K     |█                               | 51 kB 12.6 MB/s eta 0:00:01\r\u001b[K     |█▎                              | 61 kB 14.6 MB/s eta 0:00:01\r\u001b[K     |█▌                              | 71 kB 11.8 MB/s eta 0:00:01\r\u001b[K     |█▊                              | 81 kB 13.0 MB/s eta 0:00:01\r\u001b[K     |██                              | 92 kB 14.4 MB/s eta 0:00:01\r\u001b[K     |██▏                             | 102 kB 13.1 MB/s eta 0:00:01\r\u001b[K     |██▍                             | 112 kB 13.1 MB/s eta 0:00:01\r\u001b[K     |██▋                             | 122 kB 13.1 MB/s eta 0:00:01\r\u001b[K     |██▉                             | 133 kB 13.1 MB/s eta 0:00:01\r\u001b[K     |███                             | 143 kB 13.1 MB/s eta 0:00:01\r\u001b[K     |███▏                            | 153 kB 13.1 MB/s eta 0:00:01\r\u001b[K     |███▍                            | 163 kB 13.1 MB/s eta 0:00:01\r\u001b[K     |███▋                            | 174 kB 13.1 MB/s eta 0:00:01\r\u001b[K     |███▉                            | 184 kB 13.1 MB/s eta 0:00:01\r\u001b[K     |████                            | 194 kB 13.1 MB/s eta 0:00:01\r\u001b[K     |████▎                           | 204 kB 13.1 MB/s eta 0:00:01\r\u001b[K     |████▌                           | 215 kB 13.1 MB/s eta 0:00:01\r\u001b[K     |████▊                           | 225 kB 13.1 MB/s eta 0:00:01\r\u001b[K     |█████                           | 235 kB 13.1 MB/s eta 0:00:01\r\u001b[K     |█████▏                          | 245 kB 13.1 MB/s eta 0:00:01\r\u001b[K     |█████▍                          | 256 kB 13.1 MB/s eta 0:00:01\r\u001b[K     |█████▋                          | 266 kB 13.1 MB/s eta 0:00:01\r\u001b[K     |█████▉                          | 276 kB 13.1 MB/s eta 0:00:01\r\u001b[K     |██████                          | 286 kB 13.1 MB/s eta 0:00:01\r\u001b[K     |██████▎                         | 296 kB 13.1 MB/s eta 0:00:01\r\u001b[K     |██████▍                         | 307 kB 13.1 MB/s eta 0:00:01\r\u001b[K     |██████▋                         | 317 kB 13.1 MB/s eta 0:00:01\r\u001b[K     |██████▉                         | 327 kB 13.1 MB/s eta 0:00:01\r\u001b[K     |███████                         | 337 kB 13.1 MB/s eta 0:00:01\r\u001b[K     |███████▎                        | 348 kB 13.1 MB/s eta 0:00:01\r\u001b[K     |███████▌                        | 358 kB 13.1 MB/s eta 0:00:01\r\u001b[K     |███████▊                        | 368 kB 13.1 MB/s eta 0:00:01\r\u001b[K     |████████                        | 378 kB 13.1 MB/s eta 0:00:01\r\u001b[K     |████████▏                       | 389 kB 13.1 MB/s eta 0:00:01\r\u001b[K     |████████▍                       | 399 kB 13.1 MB/s eta 0:00:01\r\u001b[K     |████████▋                       | 409 kB 13.1 MB/s eta 0:00:01\r\u001b[K     |████████▉                       | 419 kB 13.1 MB/s eta 0:00:01\r\u001b[K     |█████████                       | 430 kB 13.1 MB/s eta 0:00:01\r\u001b[K     |█████████▎                      | 440 kB 13.1 MB/s eta 0:00:01\r\u001b[K     |█████████▌                      | 450 kB 13.1 MB/s eta 0:00:01\r\u001b[K     |█████████▋                      | 460 kB 13.1 MB/s eta 0:00:01\r\u001b[K     |█████████▉                      | 471 kB 13.1 MB/s eta 0:00:01\r\u001b[K     |██████████                      | 481 kB 13.1 MB/s eta 0:00:01\r\u001b[K     |██████████▎                     | 491 kB 13.1 MB/s eta 0:00:01\r\u001b[K     |██████████▌                     | 501 kB 13.1 MB/s eta 0:00:01\r\u001b[K     |██████████▊                     | 512 kB 13.1 MB/s eta 0:00:01\r\u001b[K     |███████████                     | 522 kB 13.1 MB/s eta 0:00:01\r\u001b[K     |███████████▏                    | 532 kB 13.1 MB/s eta 0:00:01\r\u001b[K     |███████████▍                    | 542 kB 13.1 MB/s eta 0:00:01\r\u001b[K     |███████████▋                    | 552 kB 13.1 MB/s eta 0:00:01\r\u001b[K     |███████████▉                    | 563 kB 13.1 MB/s eta 0:00:01\r\u001b[K     |████████████                    | 573 kB 13.1 MB/s eta 0:00:01\r\u001b[K     |████████████▎                   | 583 kB 13.1 MB/s eta 0:00:01\r\u001b[K     |████████████▌                   | 593 kB 13.1 MB/s eta 0:00:01\r\u001b[K     |████████████▊                   | 604 kB 13.1 MB/s eta 0:00:01\r\u001b[K     |████████████▉                   | 614 kB 13.1 MB/s eta 0:00:01\r\u001b[K     |█████████████                   | 624 kB 13.1 MB/s eta 0:00:01\r\u001b[K     |█████████████▎                  | 634 kB 13.1 MB/s eta 0:00:01\r\u001b[K     |█████████████▌                  | 645 kB 13.1 MB/s eta 0:00:01\r\u001b[K     |█████████████▊                  | 655 kB 13.1 MB/s eta 0:00:01\r\u001b[K     |██████████████                  | 665 kB 13.1 MB/s eta 0:00:01\r\u001b[K     |██████████████▏                 | 675 kB 13.1 MB/s eta 0:00:01\r\u001b[K     |██████████████▍                 | 686 kB 13.1 MB/s eta 0:00:01\r\u001b[K     |██████████████▋                 | 696 kB 13.1 MB/s eta 0:00:01\r\u001b[K     |██████████████▉                 | 706 kB 13.1 MB/s eta 0:00:01\r\u001b[K     |███████████████                 | 716 kB 13.1 MB/s eta 0:00:01\r\u001b[K     |███████████████▎                | 727 kB 13.1 MB/s eta 0:00:01\r\u001b[K     |███████████████▌                | 737 kB 13.1 MB/s eta 0:00:01\r\u001b[K     |███████████████▊                | 747 kB 13.1 MB/s eta 0:00:01\r\u001b[K     |████████████████                | 757 kB 13.1 MB/s eta 0:00:01\r\u001b[K     |████████████████                | 768 kB 13.1 MB/s eta 0:00:01\r\u001b[K     |████████████████▎               | 778 kB 13.1 MB/s eta 0:00:01\r\u001b[K     |████████████████▌               | 788 kB 13.1 MB/s eta 0:00:01\r\u001b[K     |████████████████▊               | 798 kB 13.1 MB/s eta 0:00:01\r\u001b[K     |█████████████████               | 808 kB 13.1 MB/s eta 0:00:01\r\u001b[K     |█████████████████▏              | 819 kB 13.1 MB/s eta 0:00:01\r\u001b[K     |█████████████████▍              | 829 kB 13.1 MB/s eta 0:00:01\r\u001b[K     |█████████████████▋              | 839 kB 13.1 MB/s eta 0:00:01\r\u001b[K     |█████████████████▉              | 849 kB 13.1 MB/s eta 0:00:01\r\u001b[K     |██████████████████              | 860 kB 13.1 MB/s eta 0:00:01\r\u001b[K     |██████████████████▎             | 870 kB 13.1 MB/s eta 0:00:01\r\u001b[K     |██████████████████▌             | 880 kB 13.1 MB/s eta 0:00:01\r\u001b[K     |██████████████████▊             | 890 kB 13.1 MB/s eta 0:00:01\r\u001b[K     |███████████████████             | 901 kB 13.1 MB/s eta 0:00:01\r\u001b[K     |███████████████████▏            | 911 kB 13.1 MB/s eta 0:00:01\r\u001b[K     |███████████████████▎            | 921 kB 13.1 MB/s eta 0:00:01\r\u001b[K     |███████████████████▌            | 931 kB 13.1 MB/s eta 0:00:01\r\u001b[K     |███████████████████▊            | 942 kB 13.1 MB/s eta 0:00:01\r\u001b[K     |████████████████████            | 952 kB 13.1 MB/s eta 0:00:01\r\u001b[K     |████████████████████▏           | 962 kB 13.1 MB/s eta 0:00:01\r\u001b[K     |████████████████████▍           | 972 kB 13.1 MB/s eta 0:00:01\r\u001b[K     |████████████████████▋           | 983 kB 13.1 MB/s eta 0:00:01\r\u001b[K     |████████████████████▉           | 993 kB 13.1 MB/s eta 0:00:01\r\u001b[K     |█████████████████████           | 1.0 MB 13.1 MB/s eta 0:00:01\r\u001b[K     |█████████████████████▎          | 1.0 MB 13.1 MB/s eta 0:00:01\r\u001b[K     |█████████████████████▌          | 1.0 MB 13.1 MB/s eta 0:00:01\r\u001b[K     |█████████████████████▊          | 1.0 MB 13.1 MB/s eta 0:00:01\r\u001b[K     |██████████████████████          | 1.0 MB 13.1 MB/s eta 0:00:01\r\u001b[K     |██████████████████████▏         | 1.1 MB 13.1 MB/s eta 0:00:01\r\u001b[K     |██████████████████████▍         | 1.1 MB 13.1 MB/s eta 0:00:01\r\u001b[K     |██████████████████████▌         | 1.1 MB 13.1 MB/s eta 0:00:01\r\u001b[K     |██████████████████████▊         | 1.1 MB 13.1 MB/s eta 0:00:01\r\u001b[K     |███████████████████████         | 1.1 MB 13.1 MB/s eta 0:00:01\r\u001b[K     |███████████████████████▏        | 1.1 MB 13.1 MB/s eta 0:00:01\r\u001b[K     |███████████████████████▍        | 1.1 MB 13.1 MB/s eta 0:00:01\r\u001b[K     |███████████████████████▋        | 1.1 MB 13.1 MB/s eta 0:00:01\r\u001b[K     |███████████████████████▉        | 1.1 MB 13.1 MB/s eta 0:00:01\r\u001b[K     |████████████████████████        | 1.1 MB 13.1 MB/s eta 0:00:01\r\u001b[K     |████████████████████████▎       | 1.2 MB 13.1 MB/s eta 0:00:01\r\u001b[K     |████████████████████████▌       | 1.2 MB 13.1 MB/s eta 0:00:01\r\u001b[K     |████████████████████████▊       | 1.2 MB 13.1 MB/s eta 0:00:01\r\u001b[K     |█████████████████████████       | 1.2 MB 13.1 MB/s eta 0:00:01\r\u001b[K     |█████████████████████████▏      | 1.2 MB 13.1 MB/s eta 0:00:01\r\u001b[K     |█████████████████████████▍      | 1.2 MB 13.1 MB/s eta 0:00:01\r\u001b[K     |█████████████████████████▋      | 1.2 MB 13.1 MB/s eta 0:00:01\r\u001b[K     |█████████████████████████▊      | 1.2 MB 13.1 MB/s eta 0:00:01\r\u001b[K     |██████████████████████████      | 1.2 MB 13.1 MB/s eta 0:00:01\r\u001b[K     |██████████████████████████▏     | 1.2 MB 13.1 MB/s eta 0:00:01\r\u001b[K     |██████████████████████████▍     | 1.3 MB 13.1 MB/s eta 0:00:01\r\u001b[K     |██████████████████████████▋     | 1.3 MB 13.1 MB/s eta 0:00:01\r\u001b[K     |██████████████████████████▉     | 1.3 MB 13.1 MB/s eta 0:00:01\r\u001b[K     |███████████████████████████     | 1.3 MB 13.1 MB/s eta 0:00:01\r\u001b[K     |███████████████████████████▎    | 1.3 MB 13.1 MB/s eta 0:00:01\r\u001b[K     |███████████████████████████▌    | 1.3 MB 13.1 MB/s eta 0:00:01\r\u001b[K     |███████████████████████████▊    | 1.3 MB 13.1 MB/s eta 0:00:01\r\u001b[K     |████████████████████████████    | 1.3 MB 13.1 MB/s eta 0:00:01\r\u001b[K     |████████████████████████████▏   | 1.3 MB 13.1 MB/s eta 0:00:01\r\u001b[K     |████████████████████████████▍   | 1.4 MB 13.1 MB/s eta 0:00:01\r\u001b[K     |████████████████████████████▋   | 1.4 MB 13.1 MB/s eta 0:00:01\r\u001b[K     |████████████████████████████▉   | 1.4 MB 13.1 MB/s eta 0:00:01\r\u001b[K     |█████████████████████████████   | 1.4 MB 13.1 MB/s eta 0:00:01\r\u001b[K     |█████████████████████████████▏  | 1.4 MB 13.1 MB/s eta 0:00:01\r\u001b[K     |█████████████████████████████▍  | 1.4 MB 13.1 MB/s eta 0:00:01\r\u001b[K     |█████████████████████████████▋  | 1.4 MB 13.1 MB/s eta 0:00:01\r\u001b[K     |█████████████████████████████▉  | 1.4 MB 13.1 MB/s eta 0:00:01\r\u001b[K     |██████████████████████████████  | 1.4 MB 13.1 MB/s eta 0:00:01\r\u001b[K     |██████████████████████████████▎ | 1.4 MB 13.1 MB/s eta 0:00:01\r\u001b[K     |██████████████████████████████▌ | 1.5 MB 13.1 MB/s eta 0:00:01\r\u001b[K     |██████████████████████████████▊ | 1.5 MB 13.1 MB/s eta 0:00:01\r\u001b[K     |███████████████████████████████ | 1.5 MB 13.1 MB/s eta 0:00:01\r\u001b[K     |███████████████████████████████▏| 1.5 MB 13.1 MB/s eta 0:00:01\r\u001b[K     |███████████████████████████████▍| 1.5 MB 13.1 MB/s eta 0:00:01\r\u001b[K     |███████████████████████████████▋| 1.5 MB 13.1 MB/s eta 0:00:01\r\u001b[K     |███████████████████████████████▉| 1.5 MB 13.1 MB/s eta 0:00:01\r\u001b[K     |████████████████████████████████| 1.5 MB 13.1 MB/s \n",
            "\u001b[?25hRequirement already satisfied: python-dateutil>=2.4 in /usr/local/lib/python3.7/dist-packages (from faker) (2.8.2)\n",
            "Requirement already satisfied: typing-extensions>=3.10.0.2 in /usr/local/lib/python3.7/dist-packages (from faker) (4.2.0)\n",
            "Requirement already satisfied: six>=1.5 in /usr/local/lib/python3.7/dist-packages (from python-dateutil>=2.4->faker) (1.15.0)\n",
            "Installing collected packages: faker\n",
            "Successfully installed faker-13.7.0\n"
          ]
        }
      ]
    },
    {
      "cell_type": "code",
      "source": [
        "from faker import Faker\n",
        "fake = Faker()"
      ],
      "metadata": {
        "id": "GUqupEezi_r9"
      },
      "execution_count": null,
      "outputs": []
    },
    {
      "cell_type": "code",
      "source": [
        "dataf = create_random_csv_data_for_Ticket(20000)"
      ],
      "metadata": {
        "id": "vZjd4i_gNXRI"
      },
      "execution_count": null,
      "outputs": []
    },
    {
      "cell_type": "code",
      "source": [
        "\n",
        "def str_time_prop(start, end, time_format, prop):\n",
        "    stime = time.mktime(time.strptime(start, time_format))\n",
        "    etime = time.mktime(time.strptime(end, time_format))\n",
        "    ptime = stime + prop * (etime - stime)\n",
        "\n",
        "    return time.strftime(time_format, time.localtime(ptime))\n",
        "\n",
        "\n",
        "def random_date(start, end, prop):\n",
        "    return str_time_prop(start, end, '%d/%m/%Y', prop)\n",
        " \n",
        "datesRandomList = [];\n",
        "for index in range(n):\n",
        "    datesRandomList.append(random_date(\"01/01/2022\", \"31/12/2024\", random.random()))"
      ],
      "metadata": {
        "id": "U5H0jPHH1X9a"
      },
      "execution_count": null,
      "outputs": []
    },
    {
      "cell_type": "code",
      "source": [
        ""
      ],
      "metadata": {
        "id": "qjgdTepIZsnV"
      },
      "execution_count": null,
      "outputs": []
    },
    {
      "cell_type": "code",
      "source": [
        "import random\n",
        "import time"
      ],
      "metadata": {
        "id": "ltdS_nQ42iTX"
      },
      "execution_count": null,
      "outputs": []
    },
    {
      "cell_type": "code",
      "source": [
        "import random\n",
        "import string\n",
        "\n",
        "def random_char(y):\n",
        "              return ''.join(random.choice(string.ascii_letters) for x in range(y))\n",
        "\n",
        "emailAdressRandomList = [];\n",
        "for index in range(n):\n",
        "  emailAdressRandomList.append(random_char(7)+\"@gmail.com\")\n",
        "\n"
      ],
      "metadata": {
        "id": "BPIT8IZgEYYG"
      },
      "execution_count": null,
      "outputs": []
    },
    {
      "cell_type": "code",
      "source": [
        "n=20000"
      ],
      "metadata": {
        "id": "xca4a7XkFIVn"
      },
      "execution_count": null,
      "outputs": []
    },
    {
      "cell_type": "code",
      "source": [
        "pip install dates"
      ],
      "metadata": {
        "colab": {
          "base_uri": "https://localhost:8080/"
        },
        "id": "zJap0Gjf_ZCM",
        "outputId": "4513d2a9-f891-4fe0-9633-747eb24f5d83"
      },
      "execution_count": null,
      "outputs": [
        {
          "output_type": "stream",
          "name": "stdout",
          "text": [
            "Collecting dates\n",
            "  Downloading dates-0.0.1.tar.gz (4.4 kB)\n",
            "Requirement already satisfied: python-dateutil in /usr/local/lib/python3.7/dist-packages (from dates) (2.8.2)\n",
            "Requirement already satisfied: six>=1.5 in /usr/local/lib/python3.7/dist-packages (from python-dateutil->dates) (1.15.0)\n",
            "Building wheels for collected packages: dates\n",
            "  Building wheel for dates (setup.py) ... \u001b[?25l\u001b[?25hdone\n",
            "  Created wheel for dates: filename=dates-0.0.1-py3-none-any.whl size=6353 sha256=b1ee9a00ea63a71cc85be303dd5ab2089d977bf48a309117e41e51cc7561b0d1\n",
            "  Stored in directory: /root/.cache/pip/wheels/3b/7e/e7/5a91cc8a0f2b9dc78ff8306c2c0b7a3850f2cf97c7594419b5\n",
            "Successfully built dates\n",
            "Installing collected packages: dates\n",
            "Successfully installed dates-0.0.1\n"
          ]
        }
      ]
    },
    {
      "cell_type": "code",
      "source": [
        "import numpy as np"
      ],
      "metadata": {
        "id": "qLltUXq5Uia1"
      },
      "execution_count": null,
      "outputs": []
    },
    {
      "cell_type": "code",
      "source": [
        "dataf"
      ],
      "metadata": {
        "colab": {
          "base_uri": "https://localhost:8080/",
          "height": 165
        },
        "id": "dTuM4Rusc1Dy",
        "outputId": "0bd67a1c-8889-4d56-9f44-290126be6a47"
      },
      "execution_count": null,
      "outputs": [
        {
          "output_type": "error",
          "ename": "NameError",
          "evalue": "ignored",
          "traceback": [
            "\u001b[0;31m---------------------------------------------------------------------------\u001b[0m",
            "\u001b[0;31mNameError\u001b[0m                                 Traceback (most recent call last)",
            "\u001b[0;32m<ipython-input-1-9f1279efdeba>\u001b[0m in \u001b[0;36m<module>\u001b[0;34m()\u001b[0m\n\u001b[0;32m----> 1\u001b[0;31m \u001b[0mdataf\u001b[0m\u001b[0;34m\u001b[0m\u001b[0;34m\u001b[0m\u001b[0m\n\u001b[0m",
            "\u001b[0;31mNameError\u001b[0m: name 'dataf' is not defined"
          ]
        }
      ]
    },
    {
      "cell_type": "code",
      "source": [
        "def create_random_csv_data_for_Attractions(n):\n",
        "  list_minimum_age_required = ['1', '3', '8' , '10','12','15','18']\n",
        "  list_attraction_level = ['Low', 'Medium', 'Hight' ]\n",
        "  list_attraction_type = ['attraction with train', 'attraction with car' ,'flying attraction' , 'looping attraction' , 'attraction with boat' , 'escalation attraction', 'labyrinth attraction', 'memory attraction' ,'attraction with slides', 'attractions with balls', 'intellectual attraction','cinema attraction','aquatic attraction','big wheel','duck fishing']\n",
        "  attraction_level = random.choices(list_attraction_level,weights=(30,70,20) ,k=n)\n",
        "  attraction_type = random.choices(list_attraction_type,weights=(10,30,20,10,50,40,5,5,10,20,40,10,25,30,10) ,k=n)\n",
        "  attraction_id = range(1,n + 1)\n",
        "  ticket_id = [random.randint(1,n) for x in range(n)]\n",
        "  design_id = [random.randint(1,n) for x in range(n)]\n",
        "  theme_id = [random.randint(1,n) for x in range(n)]\n",
        "  minimum_age_required = random.choices(list_minimum_age_required,weights=(10,15,20,20,40,60,10), k=n)\n",
        "  data = {\n",
        "          'attraction_level' : attraction_level,\n",
        "          'attraction_type' : attraction_type,\n",
        "          'attraction_id' : attraction_id,\n",
        "          'ticket_id' : ticket_id,\n",
        "          'design_id' : design_id,\n",
        "          'theme_id' : theme_id,\n",
        "          'minimum_age_required' : minimum_age_required\n",
        "          }\n",
        "  df_attractions = pd.DataFrame(data)\n",
        "  return df_attractions\n",
        "\n"
      ],
      "metadata": {
        "id": "bBQQum7gj02w"
      },
      "execution_count": null,
      "outputs": []
    },
    {
      "cell_type": "code",
      "source": [
        "n=20000"
      ],
      "metadata": {
        "id": "KteN5kjgnH8j"
      },
      "execution_count": null,
      "outputs": []
    },
    {
      "cell_type": "code",
      "source": [
        "df_attractions = create_random_csv_data_for_Attractions(20000)"
      ],
      "metadata": {
        "id": "fGLtWsfZnfqr"
      },
      "execution_count": null,
      "outputs": []
    },
    {
      "cell_type": "code",
      "source": [
        "df_attractions"
      ],
      "metadata": {
        "colab": {
          "base_uri": "https://localhost:8080/",
          "height": 424
        },
        "id": "kergeIJZnrvA",
        "outputId": "95038815-4de7-4eff-b5dd-ba4f8a415e9b"
      },
      "execution_count": null,
      "outputs": [
        {
          "output_type": "execute_result",
          "data": {
            "text/plain": [
              "      attraction_level          attraction_type  attraction_id  ticket_id  \\\n",
              "0               Medium       aquatic attraction              1      13355   \n",
              "1               Medium     attraction with boat              2      13708   \n",
              "2               Medium        cinema attraction              3      19232   \n",
              "3                  Low     attraction with boat              4      14918   \n",
              "4                  Low    attraction with train              5      13617   \n",
              "...                ...                      ...            ...        ...   \n",
              "19995           Medium  intellectual attraction          19996      18507   \n",
              "19996           Medium                big wheel          19997      15480   \n",
              "19997              Low  intellectual attraction          19998       9591   \n",
              "19998           Medium       aquatic attraction          19999      16597   \n",
              "19999              Low        cinema attraction          20000      14876   \n",
              "\n",
              "       design_id  theme_id minimum_age_required  \n",
              "0           4130      5723                    3  \n",
              "1          12032      2639                   15  \n",
              "2           6246     13904                   10  \n",
              "3           7805       472                   10  \n",
              "4          19503     15645                    3  \n",
              "...          ...       ...                  ...  \n",
              "19995      17519     16526                   15  \n",
              "19996      14925     15468                   12  \n",
              "19997      13180     14990                   15  \n",
              "19998       9489     12112                    8  \n",
              "19999      12967     17567                   15  \n",
              "\n",
              "[20000 rows x 7 columns]"
            ],
            "text/html": [
              "\n",
              "  <div id=\"df-3fcae500-b712-4e7e-801d-1cd67e7baee0\">\n",
              "    <div class=\"colab-df-container\">\n",
              "      <div>\n",
              "<style scoped>\n",
              "    .dataframe tbody tr th:only-of-type {\n",
              "        vertical-align: middle;\n",
              "    }\n",
              "\n",
              "    .dataframe tbody tr th {\n",
              "        vertical-align: top;\n",
              "    }\n",
              "\n",
              "    .dataframe thead th {\n",
              "        text-align: right;\n",
              "    }\n",
              "</style>\n",
              "<table border=\"1\" class=\"dataframe\">\n",
              "  <thead>\n",
              "    <tr style=\"text-align: right;\">\n",
              "      <th></th>\n",
              "      <th>attraction_level</th>\n",
              "      <th>attraction_type</th>\n",
              "      <th>attraction_id</th>\n",
              "      <th>ticket_id</th>\n",
              "      <th>design_id</th>\n",
              "      <th>theme_id</th>\n",
              "      <th>minimum_age_required</th>\n",
              "    </tr>\n",
              "  </thead>\n",
              "  <tbody>\n",
              "    <tr>\n",
              "      <th>0</th>\n",
              "      <td>Medium</td>\n",
              "      <td>aquatic attraction</td>\n",
              "      <td>1</td>\n",
              "      <td>13355</td>\n",
              "      <td>4130</td>\n",
              "      <td>5723</td>\n",
              "      <td>3</td>\n",
              "    </tr>\n",
              "    <tr>\n",
              "      <th>1</th>\n",
              "      <td>Medium</td>\n",
              "      <td>attraction with boat</td>\n",
              "      <td>2</td>\n",
              "      <td>13708</td>\n",
              "      <td>12032</td>\n",
              "      <td>2639</td>\n",
              "      <td>15</td>\n",
              "    </tr>\n",
              "    <tr>\n",
              "      <th>2</th>\n",
              "      <td>Medium</td>\n",
              "      <td>cinema attraction</td>\n",
              "      <td>3</td>\n",
              "      <td>19232</td>\n",
              "      <td>6246</td>\n",
              "      <td>13904</td>\n",
              "      <td>10</td>\n",
              "    </tr>\n",
              "    <tr>\n",
              "      <th>3</th>\n",
              "      <td>Low</td>\n",
              "      <td>attraction with boat</td>\n",
              "      <td>4</td>\n",
              "      <td>14918</td>\n",
              "      <td>7805</td>\n",
              "      <td>472</td>\n",
              "      <td>10</td>\n",
              "    </tr>\n",
              "    <tr>\n",
              "      <th>4</th>\n",
              "      <td>Low</td>\n",
              "      <td>attraction with train</td>\n",
              "      <td>5</td>\n",
              "      <td>13617</td>\n",
              "      <td>19503</td>\n",
              "      <td>15645</td>\n",
              "      <td>3</td>\n",
              "    </tr>\n",
              "    <tr>\n",
              "      <th>...</th>\n",
              "      <td>...</td>\n",
              "      <td>...</td>\n",
              "      <td>...</td>\n",
              "      <td>...</td>\n",
              "      <td>...</td>\n",
              "      <td>...</td>\n",
              "      <td>...</td>\n",
              "    </tr>\n",
              "    <tr>\n",
              "      <th>19995</th>\n",
              "      <td>Medium</td>\n",
              "      <td>intellectual attraction</td>\n",
              "      <td>19996</td>\n",
              "      <td>18507</td>\n",
              "      <td>17519</td>\n",
              "      <td>16526</td>\n",
              "      <td>15</td>\n",
              "    </tr>\n",
              "    <tr>\n",
              "      <th>19996</th>\n",
              "      <td>Medium</td>\n",
              "      <td>big wheel</td>\n",
              "      <td>19997</td>\n",
              "      <td>15480</td>\n",
              "      <td>14925</td>\n",
              "      <td>15468</td>\n",
              "      <td>12</td>\n",
              "    </tr>\n",
              "    <tr>\n",
              "      <th>19997</th>\n",
              "      <td>Low</td>\n",
              "      <td>intellectual attraction</td>\n",
              "      <td>19998</td>\n",
              "      <td>9591</td>\n",
              "      <td>13180</td>\n",
              "      <td>14990</td>\n",
              "      <td>15</td>\n",
              "    </tr>\n",
              "    <tr>\n",
              "      <th>19998</th>\n",
              "      <td>Medium</td>\n",
              "      <td>aquatic attraction</td>\n",
              "      <td>19999</td>\n",
              "      <td>16597</td>\n",
              "      <td>9489</td>\n",
              "      <td>12112</td>\n",
              "      <td>8</td>\n",
              "    </tr>\n",
              "    <tr>\n",
              "      <th>19999</th>\n",
              "      <td>Low</td>\n",
              "      <td>cinema attraction</td>\n",
              "      <td>20000</td>\n",
              "      <td>14876</td>\n",
              "      <td>12967</td>\n",
              "      <td>17567</td>\n",
              "      <td>15</td>\n",
              "    </tr>\n",
              "  </tbody>\n",
              "</table>\n",
              "<p>20000 rows × 7 columns</p>\n",
              "</div>\n",
              "      <button class=\"colab-df-convert\" onclick=\"convertToInteractive('df-3fcae500-b712-4e7e-801d-1cd67e7baee0')\"\n",
              "              title=\"Convert this dataframe to an interactive table.\"\n",
              "              style=\"display:none;\">\n",
              "        \n",
              "  <svg xmlns=\"http://www.w3.org/2000/svg\" height=\"24px\"viewBox=\"0 0 24 24\"\n",
              "       width=\"24px\">\n",
              "    <path d=\"M0 0h24v24H0V0z\" fill=\"none\"/>\n",
              "    <path d=\"M18.56 5.44l.94 2.06.94-2.06 2.06-.94-2.06-.94-.94-2.06-.94 2.06-2.06.94zm-11 1L8.5 8.5l.94-2.06 2.06-.94-2.06-.94L8.5 2.5l-.94 2.06-2.06.94zm10 10l.94 2.06.94-2.06 2.06-.94-2.06-.94-.94-2.06-.94 2.06-2.06.94z\"/><path d=\"M17.41 7.96l-1.37-1.37c-.4-.4-.92-.59-1.43-.59-.52 0-1.04.2-1.43.59L10.3 9.45l-7.72 7.72c-.78.78-.78 2.05 0 2.83L4 21.41c.39.39.9.59 1.41.59.51 0 1.02-.2 1.41-.59l7.78-7.78 2.81-2.81c.8-.78.8-2.07 0-2.86zM5.41 20L4 18.59l7.72-7.72 1.47 1.35L5.41 20z\"/>\n",
              "  </svg>\n",
              "      </button>\n",
              "      \n",
              "  <style>\n",
              "    .colab-df-container {\n",
              "      display:flex;\n",
              "      flex-wrap:wrap;\n",
              "      gap: 12px;\n",
              "    }\n",
              "\n",
              "    .colab-df-convert {\n",
              "      background-color: #E8F0FE;\n",
              "      border: none;\n",
              "      border-radius: 50%;\n",
              "      cursor: pointer;\n",
              "      display: none;\n",
              "      fill: #1967D2;\n",
              "      height: 32px;\n",
              "      padding: 0 0 0 0;\n",
              "      width: 32px;\n",
              "    }\n",
              "\n",
              "    .colab-df-convert:hover {\n",
              "      background-color: #E2EBFA;\n",
              "      box-shadow: 0px 1px 2px rgba(60, 64, 67, 0.3), 0px 1px 3px 1px rgba(60, 64, 67, 0.15);\n",
              "      fill: #174EA6;\n",
              "    }\n",
              "\n",
              "    [theme=dark] .colab-df-convert {\n",
              "      background-color: #3B4455;\n",
              "      fill: #D2E3FC;\n",
              "    }\n",
              "\n",
              "    [theme=dark] .colab-df-convert:hover {\n",
              "      background-color: #434B5C;\n",
              "      box-shadow: 0px 1px 3px 1px rgba(0, 0, 0, 0.15);\n",
              "      filter: drop-shadow(0px 1px 2px rgba(0, 0, 0, 0.3));\n",
              "      fill: #FFFFFF;\n",
              "    }\n",
              "  </style>\n",
              "\n",
              "      <script>\n",
              "        const buttonEl =\n",
              "          document.querySelector('#df-3fcae500-b712-4e7e-801d-1cd67e7baee0 button.colab-df-convert');\n",
              "        buttonEl.style.display =\n",
              "          google.colab.kernel.accessAllowed ? 'block' : 'none';\n",
              "\n",
              "        async function convertToInteractive(key) {\n",
              "          const element = document.querySelector('#df-3fcae500-b712-4e7e-801d-1cd67e7baee0');\n",
              "          const dataTable =\n",
              "            await google.colab.kernel.invokeFunction('convertToInteractive',\n",
              "                                                     [key], {});\n",
              "          if (!dataTable) return;\n",
              "\n",
              "          const docLinkHtml = 'Like what you see? Visit the ' +\n",
              "            '<a target=\"_blank\" href=https://colab.research.google.com/notebooks/data_table.ipynb>data table notebook</a>'\n",
              "            + ' to learn more about interactive tables.';\n",
              "          element.innerHTML = '';\n",
              "          dataTable['output_type'] = 'display_data';\n",
              "          await google.colab.output.renderOutput(dataTable, element);\n",
              "          const docLink = document.createElement('div');\n",
              "          docLink.innerHTML = docLinkHtml;\n",
              "          element.appendChild(docLink);\n",
              "        }\n",
              "      </script>\n",
              "    </div>\n",
              "  </div>\n",
              "  "
            ]
          },
          "metadata": {},
          "execution_count": 29
        }
      ]
    },
    {
      "cell_type": "code",
      "source": [
        "df_attractions.to_csv(\"Attractions.csv\" , index=False)"
      ],
      "metadata": {
        "id": "cmyxenboqrHq"
      },
      "execution_count": null,
      "outputs": []
    },
    {
      "cell_type": "code",
      "source": [
        "def create_random_csv_data_for_Design(n):\n",
        "  design_id = range(1,n+1)\n",
        "  list_design_name = ['Flower', 'Horror', 'Haloween' , 'Mickey' , 'Space' , 'Cowboy' , 'Princess' , 'Animal']\n",
        "  design_name = random.choices(list_design_name, k=n)\n",
        "  data = {'design_id' : design_id,\n",
        "          'design_name' : design_name,\n",
        "          }\n",
        "  df_design = pd.DataFrame(data)\n",
        "  return df_design\n",
        "\n",
        "\n"
      ],
      "metadata": {
        "id": "gPGg2HHOn1zl"
      },
      "execution_count": null,
      "outputs": []
    },
    {
      "cell_type": "code",
      "source": [
        "df_design = create_random_csv_data_for_Design(20000)"
      ],
      "metadata": {
        "id": "kVPW3qQnq5lm"
      },
      "execution_count": null,
      "outputs": []
    },
    {
      "cell_type": "code",
      "source": [
        "df_design"
      ],
      "metadata": {
        "colab": {
          "base_uri": "https://localhost:8080/",
          "height": 424
        },
        "id": "wCeyFzbKrCGw",
        "outputId": "4fb46615-2110-4c00-ca3a-11c2e515a1af"
      },
      "execution_count": null,
      "outputs": [
        {
          "output_type": "execute_result",
          "data": {
            "text/plain": [
              "       design_id design_name\n",
              "0              1      Mickey\n",
              "1              2      Cowboy\n",
              "2              3      Mickey\n",
              "3              4       Space\n",
              "4              5       Space\n",
              "...          ...         ...\n",
              "19995      19996      Horror\n",
              "19996      19997      Animal\n",
              "19997      19998      Flower\n",
              "19998      19999    Princess\n",
              "19999      20000      Cowboy\n",
              "\n",
              "[20000 rows x 2 columns]"
            ],
            "text/html": [
              "\n",
              "  <div id=\"df-cb525a0d-98f0-4f9c-8653-9741658ae9f7\">\n",
              "    <div class=\"colab-df-container\">\n",
              "      <div>\n",
              "<style scoped>\n",
              "    .dataframe tbody tr th:only-of-type {\n",
              "        vertical-align: middle;\n",
              "    }\n",
              "\n",
              "    .dataframe tbody tr th {\n",
              "        vertical-align: top;\n",
              "    }\n",
              "\n",
              "    .dataframe thead th {\n",
              "        text-align: right;\n",
              "    }\n",
              "</style>\n",
              "<table border=\"1\" class=\"dataframe\">\n",
              "  <thead>\n",
              "    <tr style=\"text-align: right;\">\n",
              "      <th></th>\n",
              "      <th>design_id</th>\n",
              "      <th>design_name</th>\n",
              "    </tr>\n",
              "  </thead>\n",
              "  <tbody>\n",
              "    <tr>\n",
              "      <th>0</th>\n",
              "      <td>1</td>\n",
              "      <td>Mickey</td>\n",
              "    </tr>\n",
              "    <tr>\n",
              "      <th>1</th>\n",
              "      <td>2</td>\n",
              "      <td>Cowboy</td>\n",
              "    </tr>\n",
              "    <tr>\n",
              "      <th>2</th>\n",
              "      <td>3</td>\n",
              "      <td>Mickey</td>\n",
              "    </tr>\n",
              "    <tr>\n",
              "      <th>3</th>\n",
              "      <td>4</td>\n",
              "      <td>Space</td>\n",
              "    </tr>\n",
              "    <tr>\n",
              "      <th>4</th>\n",
              "      <td>5</td>\n",
              "      <td>Space</td>\n",
              "    </tr>\n",
              "    <tr>\n",
              "      <th>...</th>\n",
              "      <td>...</td>\n",
              "      <td>...</td>\n",
              "    </tr>\n",
              "    <tr>\n",
              "      <th>19995</th>\n",
              "      <td>19996</td>\n",
              "      <td>Horror</td>\n",
              "    </tr>\n",
              "    <tr>\n",
              "      <th>19996</th>\n",
              "      <td>19997</td>\n",
              "      <td>Animal</td>\n",
              "    </tr>\n",
              "    <tr>\n",
              "      <th>19997</th>\n",
              "      <td>19998</td>\n",
              "      <td>Flower</td>\n",
              "    </tr>\n",
              "    <tr>\n",
              "      <th>19998</th>\n",
              "      <td>19999</td>\n",
              "      <td>Princess</td>\n",
              "    </tr>\n",
              "    <tr>\n",
              "      <th>19999</th>\n",
              "      <td>20000</td>\n",
              "      <td>Cowboy</td>\n",
              "    </tr>\n",
              "  </tbody>\n",
              "</table>\n",
              "<p>20000 rows × 2 columns</p>\n",
              "</div>\n",
              "      <button class=\"colab-df-convert\" onclick=\"convertToInteractive('df-cb525a0d-98f0-4f9c-8653-9741658ae9f7')\"\n",
              "              title=\"Convert this dataframe to an interactive table.\"\n",
              "              style=\"display:none;\">\n",
              "        \n",
              "  <svg xmlns=\"http://www.w3.org/2000/svg\" height=\"24px\"viewBox=\"0 0 24 24\"\n",
              "       width=\"24px\">\n",
              "    <path d=\"M0 0h24v24H0V0z\" fill=\"none\"/>\n",
              "    <path d=\"M18.56 5.44l.94 2.06.94-2.06 2.06-.94-2.06-.94-.94-2.06-.94 2.06-2.06.94zm-11 1L8.5 8.5l.94-2.06 2.06-.94-2.06-.94L8.5 2.5l-.94 2.06-2.06.94zm10 10l.94 2.06.94-2.06 2.06-.94-2.06-.94-.94-2.06-.94 2.06-2.06.94z\"/><path d=\"M17.41 7.96l-1.37-1.37c-.4-.4-.92-.59-1.43-.59-.52 0-1.04.2-1.43.59L10.3 9.45l-7.72 7.72c-.78.78-.78 2.05 0 2.83L4 21.41c.39.39.9.59 1.41.59.51 0 1.02-.2 1.41-.59l7.78-7.78 2.81-2.81c.8-.78.8-2.07 0-2.86zM5.41 20L4 18.59l7.72-7.72 1.47 1.35L5.41 20z\"/>\n",
              "  </svg>\n",
              "      </button>\n",
              "      \n",
              "  <style>\n",
              "    .colab-df-container {\n",
              "      display:flex;\n",
              "      flex-wrap:wrap;\n",
              "      gap: 12px;\n",
              "    }\n",
              "\n",
              "    .colab-df-convert {\n",
              "      background-color: #E8F0FE;\n",
              "      border: none;\n",
              "      border-radius: 50%;\n",
              "      cursor: pointer;\n",
              "      display: none;\n",
              "      fill: #1967D2;\n",
              "      height: 32px;\n",
              "      padding: 0 0 0 0;\n",
              "      width: 32px;\n",
              "    }\n",
              "\n",
              "    .colab-df-convert:hover {\n",
              "      background-color: #E2EBFA;\n",
              "      box-shadow: 0px 1px 2px rgba(60, 64, 67, 0.3), 0px 1px 3px 1px rgba(60, 64, 67, 0.15);\n",
              "      fill: #174EA6;\n",
              "    }\n",
              "\n",
              "    [theme=dark] .colab-df-convert {\n",
              "      background-color: #3B4455;\n",
              "      fill: #D2E3FC;\n",
              "    }\n",
              "\n",
              "    [theme=dark] .colab-df-convert:hover {\n",
              "      background-color: #434B5C;\n",
              "      box-shadow: 0px 1px 3px 1px rgba(0, 0, 0, 0.15);\n",
              "      filter: drop-shadow(0px 1px 2px rgba(0, 0, 0, 0.3));\n",
              "      fill: #FFFFFF;\n",
              "    }\n",
              "  </style>\n",
              "\n",
              "      <script>\n",
              "        const buttonEl =\n",
              "          document.querySelector('#df-cb525a0d-98f0-4f9c-8653-9741658ae9f7 button.colab-df-convert');\n",
              "        buttonEl.style.display =\n",
              "          google.colab.kernel.accessAllowed ? 'block' : 'none';\n",
              "\n",
              "        async function convertToInteractive(key) {\n",
              "          const element = document.querySelector('#df-cb525a0d-98f0-4f9c-8653-9741658ae9f7');\n",
              "          const dataTable =\n",
              "            await google.colab.kernel.invokeFunction('convertToInteractive',\n",
              "                                                     [key], {});\n",
              "          if (!dataTable) return;\n",
              "\n",
              "          const docLinkHtml = 'Like what you see? Visit the ' +\n",
              "            '<a target=\"_blank\" href=https://colab.research.google.com/notebooks/data_table.ipynb>data table notebook</a>'\n",
              "            + ' to learn more about interactive tables.';\n",
              "          element.innerHTML = '';\n",
              "          dataTable['output_type'] = 'display_data';\n",
              "          await google.colab.output.renderOutput(dataTable, element);\n",
              "          const docLink = document.createElement('div');\n",
              "          docLink.innerHTML = docLinkHtml;\n",
              "          element.appendChild(docLink);\n",
              "        }\n",
              "      </script>\n",
              "    </div>\n",
              "  </div>\n",
              "  "
            ]
          },
          "metadata": {},
          "execution_count": 33
        }
      ]
    },
    {
      "cell_type": "code",
      "source": [
        "df_design.to_csv(\"design.csv\" , index=False)"
      ],
      "metadata": {
        "id": "qAdR3xLqrLEW"
      },
      "execution_count": null,
      "outputs": []
    },
    {
      "cell_type": "code",
      "source": [
        "def create_random_csv_data_for_Theme(n):\n",
        "  theme_id = range(1,n+1)\n",
        "  list_name_of_theme = ['discovery', 'Fantasy', 'Adventure' , 'MainStreet' ]\n",
        "  name_of_theme = random.choices(list_name_of_theme, k=n)\n",
        "  data = {'theme_id' : theme_id,\n",
        "          'name_of_theme' : name_of_theme,\n",
        "          }\n",
        "  df_theme = pd.DataFrame(data)\n",
        "  return df_theme\n"
      ],
      "metadata": {
        "id": "y_bP6zbTrRax"
      },
      "execution_count": null,
      "outputs": []
    },
    {
      "cell_type": "code",
      "source": [
        "df_theme = create_random_csv_data_for_Theme(20000)"
      ],
      "metadata": {
        "id": "zU3qgVJBsxKH"
      },
      "execution_count": null,
      "outputs": []
    },
    {
      "cell_type": "code",
      "source": [
        "df_theme"
      ],
      "metadata": {
        "colab": {
          "base_uri": "https://localhost:8080/",
          "height": 424
        },
        "id": "E73G8DE7tCIY",
        "outputId": "4b2eba3b-0b7d-482f-c90c-9fcea0afc104"
      },
      "execution_count": null,
      "outputs": [
        {
          "output_type": "execute_result",
          "data": {
            "text/plain": [
              "       theme_id name_of_theme\n",
              "0             1    MainStreet\n",
              "1             2    MainStreet\n",
              "2             3       Fantasy\n",
              "3             4     Adventure\n",
              "4             5    MainStreet\n",
              "...         ...           ...\n",
              "19995     19996       Fantasy\n",
              "19996     19997       Fantasy\n",
              "19997     19998    MainStreet\n",
              "19998     19999     Adventure\n",
              "19999     20000     Adventure\n",
              "\n",
              "[20000 rows x 2 columns]"
            ],
            "text/html": [
              "\n",
              "  <div id=\"df-662c283e-9395-4066-b65b-9efb896c4edc\">\n",
              "    <div class=\"colab-df-container\">\n",
              "      <div>\n",
              "<style scoped>\n",
              "    .dataframe tbody tr th:only-of-type {\n",
              "        vertical-align: middle;\n",
              "    }\n",
              "\n",
              "    .dataframe tbody tr th {\n",
              "        vertical-align: top;\n",
              "    }\n",
              "\n",
              "    .dataframe thead th {\n",
              "        text-align: right;\n",
              "    }\n",
              "</style>\n",
              "<table border=\"1\" class=\"dataframe\">\n",
              "  <thead>\n",
              "    <tr style=\"text-align: right;\">\n",
              "      <th></th>\n",
              "      <th>theme_id</th>\n",
              "      <th>name_of_theme</th>\n",
              "    </tr>\n",
              "  </thead>\n",
              "  <tbody>\n",
              "    <tr>\n",
              "      <th>0</th>\n",
              "      <td>1</td>\n",
              "      <td>MainStreet</td>\n",
              "    </tr>\n",
              "    <tr>\n",
              "      <th>1</th>\n",
              "      <td>2</td>\n",
              "      <td>MainStreet</td>\n",
              "    </tr>\n",
              "    <tr>\n",
              "      <th>2</th>\n",
              "      <td>3</td>\n",
              "      <td>Fantasy</td>\n",
              "    </tr>\n",
              "    <tr>\n",
              "      <th>3</th>\n",
              "      <td>4</td>\n",
              "      <td>Adventure</td>\n",
              "    </tr>\n",
              "    <tr>\n",
              "      <th>4</th>\n",
              "      <td>5</td>\n",
              "      <td>MainStreet</td>\n",
              "    </tr>\n",
              "    <tr>\n",
              "      <th>...</th>\n",
              "      <td>...</td>\n",
              "      <td>...</td>\n",
              "    </tr>\n",
              "    <tr>\n",
              "      <th>19995</th>\n",
              "      <td>19996</td>\n",
              "      <td>Fantasy</td>\n",
              "    </tr>\n",
              "    <tr>\n",
              "      <th>19996</th>\n",
              "      <td>19997</td>\n",
              "      <td>Fantasy</td>\n",
              "    </tr>\n",
              "    <tr>\n",
              "      <th>19997</th>\n",
              "      <td>19998</td>\n",
              "      <td>MainStreet</td>\n",
              "    </tr>\n",
              "    <tr>\n",
              "      <th>19998</th>\n",
              "      <td>19999</td>\n",
              "      <td>Adventure</td>\n",
              "    </tr>\n",
              "    <tr>\n",
              "      <th>19999</th>\n",
              "      <td>20000</td>\n",
              "      <td>Adventure</td>\n",
              "    </tr>\n",
              "  </tbody>\n",
              "</table>\n",
              "<p>20000 rows × 2 columns</p>\n",
              "</div>\n",
              "      <button class=\"colab-df-convert\" onclick=\"convertToInteractive('df-662c283e-9395-4066-b65b-9efb896c4edc')\"\n",
              "              title=\"Convert this dataframe to an interactive table.\"\n",
              "              style=\"display:none;\">\n",
              "        \n",
              "  <svg xmlns=\"http://www.w3.org/2000/svg\" height=\"24px\"viewBox=\"0 0 24 24\"\n",
              "       width=\"24px\">\n",
              "    <path d=\"M0 0h24v24H0V0z\" fill=\"none\"/>\n",
              "    <path d=\"M18.56 5.44l.94 2.06.94-2.06 2.06-.94-2.06-.94-.94-2.06-.94 2.06-2.06.94zm-11 1L8.5 8.5l.94-2.06 2.06-.94-2.06-.94L8.5 2.5l-.94 2.06-2.06.94zm10 10l.94 2.06.94-2.06 2.06-.94-2.06-.94-.94-2.06-.94 2.06-2.06.94z\"/><path d=\"M17.41 7.96l-1.37-1.37c-.4-.4-.92-.59-1.43-.59-.52 0-1.04.2-1.43.59L10.3 9.45l-7.72 7.72c-.78.78-.78 2.05 0 2.83L4 21.41c.39.39.9.59 1.41.59.51 0 1.02-.2 1.41-.59l7.78-7.78 2.81-2.81c.8-.78.8-2.07 0-2.86zM5.41 20L4 18.59l7.72-7.72 1.47 1.35L5.41 20z\"/>\n",
              "  </svg>\n",
              "      </button>\n",
              "      \n",
              "  <style>\n",
              "    .colab-df-container {\n",
              "      display:flex;\n",
              "      flex-wrap:wrap;\n",
              "      gap: 12px;\n",
              "    }\n",
              "\n",
              "    .colab-df-convert {\n",
              "      background-color: #E8F0FE;\n",
              "      border: none;\n",
              "      border-radius: 50%;\n",
              "      cursor: pointer;\n",
              "      display: none;\n",
              "      fill: #1967D2;\n",
              "      height: 32px;\n",
              "      padding: 0 0 0 0;\n",
              "      width: 32px;\n",
              "    }\n",
              "\n",
              "    .colab-df-convert:hover {\n",
              "      background-color: #E2EBFA;\n",
              "      box-shadow: 0px 1px 2px rgba(60, 64, 67, 0.3), 0px 1px 3px 1px rgba(60, 64, 67, 0.15);\n",
              "      fill: #174EA6;\n",
              "    }\n",
              "\n",
              "    [theme=dark] .colab-df-convert {\n",
              "      background-color: #3B4455;\n",
              "      fill: #D2E3FC;\n",
              "    }\n",
              "\n",
              "    [theme=dark] .colab-df-convert:hover {\n",
              "      background-color: #434B5C;\n",
              "      box-shadow: 0px 1px 3px 1px rgba(0, 0, 0, 0.15);\n",
              "      filter: drop-shadow(0px 1px 2px rgba(0, 0, 0, 0.3));\n",
              "      fill: #FFFFFF;\n",
              "    }\n",
              "  </style>\n",
              "\n",
              "      <script>\n",
              "        const buttonEl =\n",
              "          document.querySelector('#df-662c283e-9395-4066-b65b-9efb896c4edc button.colab-df-convert');\n",
              "        buttonEl.style.display =\n",
              "          google.colab.kernel.accessAllowed ? 'block' : 'none';\n",
              "\n",
              "        async function convertToInteractive(key) {\n",
              "          const element = document.querySelector('#df-662c283e-9395-4066-b65b-9efb896c4edc');\n",
              "          const dataTable =\n",
              "            await google.colab.kernel.invokeFunction('convertToInteractive',\n",
              "                                                     [key], {});\n",
              "          if (!dataTable) return;\n",
              "\n",
              "          const docLinkHtml = 'Like what you see? Visit the ' +\n",
              "            '<a target=\"_blank\" href=https://colab.research.google.com/notebooks/data_table.ipynb>data table notebook</a>'\n",
              "            + ' to learn more about interactive tables.';\n",
              "          element.innerHTML = '';\n",
              "          dataTable['output_type'] = 'display_data';\n",
              "          await google.colab.output.renderOutput(dataTable, element);\n",
              "          const docLink = document.createElement('div');\n",
              "          docLink.innerHTML = docLinkHtml;\n",
              "          element.appendChild(docLink);\n",
              "        }\n",
              "      </script>\n",
              "    </div>\n",
              "  </div>\n",
              "  "
            ]
          },
          "metadata": {},
          "execution_count": 37
        }
      ]
    },
    {
      "cell_type": "code",
      "source": [
        "df_theme.to_csv(\"theme.csv\" , index=False)"
      ],
      "metadata": {
        "id": "MyxpPYYKtIyL"
      },
      "execution_count": null,
      "outputs": []
    },
    {
      "cell_type": "code",
      "source": [
        "def create_random_csv_data_for_Check(n):\n",
        "  payment_id = [random.randint(1,n) for x in range(n)]\n",
        "  list_name_of_theme = ['discovery', 'Fantasy', 'Adventure' , 'MainStreet' ]\n",
        "  name_of_theme = random.choices(list_name_of_theme, k=n)\n",
        "  data = {'theme_id' : theme_id,\n",
        "          'name_of_theme' : name_of_theme,\n",
        "          }\n",
        "  df_theme = pd.DataFrame(data)\n",
        "  return df_theme"
      ],
      "metadata": {
        "id": "hO6xikuUoiCj"
      },
      "execution_count": null,
      "outputs": []
    },
    {
      "cell_type": "markdown",
      "source": [
        ""
      ],
      "metadata": {
        "id": "fhiW8STSAk72"
      }
    }
  ]
}